{
 "cells": [
  {
   "cell_type": "code",
   "execution_count": 1,
   "metadata": {},
   "outputs": [],
   "source": [
    "# Moagi Makwale Adrian\n",
    "# Data Science Asssessment\n",
    "# submission date 24/09/2019"
   ]
  },
  {
   "cell_type": "code",
   "execution_count": 2,
   "metadata": {},
   "outputs": [],
   "source": [
    "#we import pandas library which will help us for data analysis and exploration\n",
    "\n",
    "import pandas as pd"
   ]
  },
  {
   "cell_type": "code",
   "execution_count": 3,
   "metadata": {},
   "outputs": [],
   "source": [
    "#reading the data from Desktop into the notebook\n",
    "\n",
    "data = pd.read_csv('assessment_data.csv')"
   ]
  },
  {
   "cell_type": "code",
   "execution_count": 4,
   "metadata": {},
   "outputs": [
    {
     "data": {
      "text/html": [
       "<div>\n",
       "<style scoped>\n",
       "    .dataframe tbody tr th:only-of-type {\n",
       "        vertical-align: middle;\n",
       "    }\n",
       "\n",
       "    .dataframe tbody tr th {\n",
       "        vertical-align: top;\n",
       "    }\n",
       "\n",
       "    .dataframe thead th {\n",
       "        text-align: right;\n",
       "    }\n",
       "</style>\n",
       "<table border=\"1\" class=\"dataframe\">\n",
       "  <thead>\n",
       "    <tr style=\"text-align: right;\">\n",
       "      <th></th>\n",
       "      <th>target_var</th>\n",
       "      <th>feature_1</th>\n",
       "      <th>feature_2</th>\n",
       "      <th>feature_3</th>\n",
       "      <th>feature_4</th>\n",
       "      <th>feature_5</th>\n",
       "      <th>feature_6</th>\n",
       "      <th>feature_7</th>\n",
       "      <th>feature_8</th>\n",
       "      <th>feature_9</th>\n",
       "    </tr>\n",
       "  </thead>\n",
       "  <tbody>\n",
       "    <tr>\n",
       "      <th>0</th>\n",
       "      <td>1</td>\n",
       "      <td>211.3375</td>\n",
       "      <td>0</td>\n",
       "      <td>0</td>\n",
       "      <td>bigollo-16</td>\n",
       "      <td>blue</td>\n",
       "      <td>29.0000</td>\n",
       "      <td>1</td>\n",
       "      <td>sigma</td>\n",
       "      <td>112.877941</td>\n",
       "    </tr>\n",
       "    <tr>\n",
       "      <th>1</th>\n",
       "      <td>1</td>\n",
       "      <td>151.5500</td>\n",
       "      <td>2</td>\n",
       "      <td>1</td>\n",
       "      <td>cantor-33</td>\n",
       "      <td>pink</td>\n",
       "      <td>0.9167</td>\n",
       "      <td>1</td>\n",
       "      <td>sigma</td>\n",
       "      <td>60.291423</td>\n",
       "    </tr>\n",
       "    <tr>\n",
       "      <th>2</th>\n",
       "      <td>0</td>\n",
       "      <td>151.5500</td>\n",
       "      <td>2</td>\n",
       "      <td>1</td>\n",
       "      <td>cantor-33</td>\n",
       "      <td>blue</td>\n",
       "      <td>2.0000</td>\n",
       "      <td>1</td>\n",
       "      <td>sigma</td>\n",
       "      <td>143.794103</td>\n",
       "    </tr>\n",
       "    <tr>\n",
       "      <th>3</th>\n",
       "      <td>0</td>\n",
       "      <td>151.5500</td>\n",
       "      <td>2</td>\n",
       "      <td>1</td>\n",
       "      <td>cantor-33</td>\n",
       "      <td>pink</td>\n",
       "      <td>30.0000</td>\n",
       "      <td>1</td>\n",
       "      <td>sigma</td>\n",
       "      <td>131.278352</td>\n",
       "    </tr>\n",
       "    <tr>\n",
       "      <th>4</th>\n",
       "      <td>0</td>\n",
       "      <td>151.5500</td>\n",
       "      <td>2</td>\n",
       "      <td>1</td>\n",
       "      <td>cantor-33</td>\n",
       "      <td>blue</td>\n",
       "      <td>25.0000</td>\n",
       "      <td>1</td>\n",
       "      <td>sigma</td>\n",
       "      <td>204.415716</td>\n",
       "    </tr>\n",
       "  </tbody>\n",
       "</table>\n",
       "</div>"
      ],
      "text/plain": [
       "   target_var  feature_1  feature_2  feature_3   feature_4 feature_5  \\\n",
       "0           1   211.3375          0          0  bigollo-16      blue   \n",
       "1           1   151.5500          2          1   cantor-33      pink   \n",
       "2           0   151.5500          2          1   cantor-33      blue   \n",
       "3           0   151.5500          2          1   cantor-33      pink   \n",
       "4           0   151.5500          2          1   cantor-33      blue   \n",
       "\n",
       "   feature_6  feature_7 feature_8   feature_9  \n",
       "0    29.0000          1     sigma  112.877941  \n",
       "1     0.9167          1     sigma   60.291423  \n",
       "2     2.0000          1     sigma  143.794103  \n",
       "3    30.0000          1     sigma  131.278352  \n",
       "4    25.0000          1     sigma  204.415716  "
      ]
     },
     "execution_count": 4,
     "metadata": {},
     "output_type": "execute_result"
    }
   ],
   "source": [
    "data.head()"
   ]
  },
  {
   "cell_type": "markdown",
   "metadata": {},
   "source": [
    "# Step 1 - Cleaning and Data Preparation"
   ]
  },
  {
   "cell_type": "code",
   "execution_count": 5,
   "metadata": {},
   "outputs": [
    {
     "data": {
      "text/plain": [
       "False    1308\n",
       "True        1\n",
       "Name: feature_1, dtype: int64"
      ]
     },
     "execution_count": 5,
     "metadata": {},
     "output_type": "execute_result"
    }
   ],
   "source": [
    "#checking the null values for feature_1 variable (False = Not Null Values, True = Null Values) using isnull() function\n",
    "#we found one null value in feature_1 which will not be good for our analysis\n",
    "\n",
    "data['feature_1'].isnull().value_counts()"
   ]
  },
  {
   "cell_type": "code",
   "execution_count": 6,
   "metadata": {},
   "outputs": [],
   "source": [
    "# Lets replace the null value with the average of this variable\n",
    "\n",
    "data = data.fillna(data['feature_1'].mean())"
   ]
  },
  {
   "cell_type": "code",
   "execution_count": 7,
   "metadata": {},
   "outputs": [
    {
     "data": {
      "text/plain": [
       "False    1309\n",
       "Name: feature_9, dtype: int64"
      ]
     },
     "execution_count": 7,
     "metadata": {},
     "output_type": "execute_result"
    }
   ],
   "source": [
    "#checking the null values for feature_9 variable (False = Not Null Values, True = Null Values)\n",
    "# No Null values\n",
    "\n",
    "data['feature_9'].isnull().value_counts()"
   ]
  },
  {
   "cell_type": "code",
   "execution_count": 8,
   "metadata": {},
   "outputs": [
    {
     "data": {
      "text/plain": [
       "False    1309\n",
       "Name: target_var, dtype: int64"
      ]
     },
     "execution_count": 8,
     "metadata": {},
     "output_type": "execute_result"
    }
   ],
   "source": [
    "#checking the null values for our target variable target_var (False = Not Null Values, True = Null Values)\n",
    "#we have no nulls in our target variable which is good\n",
    "\n",
    "data['target_var'].isnull().value_counts()"
   ]
  },
  {
   "cell_type": "code",
   "execution_count": 9,
   "metadata": {},
   "outputs": [
    {
     "data": {
      "text/html": [
       "<div>\n",
       "<style scoped>\n",
       "    .dataframe tbody tr th:only-of-type {\n",
       "        vertical-align: middle;\n",
       "    }\n",
       "\n",
       "    .dataframe tbody tr th {\n",
       "        vertical-align: top;\n",
       "    }\n",
       "\n",
       "    .dataframe thead th {\n",
       "        text-align: right;\n",
       "    }\n",
       "</style>\n",
       "<table border=\"1\" class=\"dataframe\">\n",
       "  <thead>\n",
       "    <tr style=\"text-align: right;\">\n",
       "      <th></th>\n",
       "      <th>target_var</th>\n",
       "      <th>feature_1</th>\n",
       "      <th>feature_2</th>\n",
       "      <th>feature_3</th>\n",
       "      <th>feature_6</th>\n",
       "      <th>feature_7</th>\n",
       "      <th>feature_9</th>\n",
       "    </tr>\n",
       "  </thead>\n",
       "  <tbody>\n",
       "    <tr>\n",
       "      <th>count</th>\n",
       "      <td>1309.000000</td>\n",
       "      <td>1309.000000</td>\n",
       "      <td>1309.000000</td>\n",
       "      <td>1309.000000</td>\n",
       "      <td>1309.000000</td>\n",
       "      <td>1309.000000</td>\n",
       "      <td>1309.000000</td>\n",
       "    </tr>\n",
       "    <tr>\n",
       "      <th>mean</th>\n",
       "      <td>0.381971</td>\n",
       "      <td>33.295479</td>\n",
       "      <td>0.385027</td>\n",
       "      <td>0.498854</td>\n",
       "      <td>30.567133</td>\n",
       "      <td>2.294882</td>\n",
       "      <td>101.794120</td>\n",
       "    </tr>\n",
       "    <tr>\n",
       "      <th>std</th>\n",
       "      <td>0.486055</td>\n",
       "      <td>51.738879</td>\n",
       "      <td>0.865560</td>\n",
       "      <td>1.041658</td>\n",
       "      <td>12.955690</td>\n",
       "      <td>0.837836</td>\n",
       "      <td>50.890853</td>\n",
       "    </tr>\n",
       "    <tr>\n",
       "      <th>min</th>\n",
       "      <td>0.000000</td>\n",
       "      <td>0.000000</td>\n",
       "      <td>0.000000</td>\n",
       "      <td>0.000000</td>\n",
       "      <td>0.166700</td>\n",
       "      <td>1.000000</td>\n",
       "      <td>-93.974333</td>\n",
       "    </tr>\n",
       "    <tr>\n",
       "      <th>25%</th>\n",
       "      <td>0.000000</td>\n",
       "      <td>7.895800</td>\n",
       "      <td>0.000000</td>\n",
       "      <td>0.000000</td>\n",
       "      <td>22.000000</td>\n",
       "      <td>2.000000</td>\n",
       "      <td>68.550768</td>\n",
       "    </tr>\n",
       "    <tr>\n",
       "      <th>50%</th>\n",
       "      <td>0.000000</td>\n",
       "      <td>14.454200</td>\n",
       "      <td>0.000000</td>\n",
       "      <td>0.000000</td>\n",
       "      <td>32.000000</td>\n",
       "      <td>3.000000</td>\n",
       "      <td>102.039185</td>\n",
       "    </tr>\n",
       "    <tr>\n",
       "      <th>75%</th>\n",
       "      <td>1.000000</td>\n",
       "      <td>31.275000</td>\n",
       "      <td>0.000000</td>\n",
       "      <td>1.000000</td>\n",
       "      <td>35.000000</td>\n",
       "      <td>3.000000</td>\n",
       "      <td>135.175053</td>\n",
       "    </tr>\n",
       "    <tr>\n",
       "      <th>max</th>\n",
       "      <td>1.000000</td>\n",
       "      <td>512.329200</td>\n",
       "      <td>9.000000</td>\n",
       "      <td>8.000000</td>\n",
       "      <td>80.000000</td>\n",
       "      <td>3.000000</td>\n",
       "      <td>264.692290</td>\n",
       "    </tr>\n",
       "  </tbody>\n",
       "</table>\n",
       "</div>"
      ],
      "text/plain": [
       "        target_var    feature_1    feature_2    feature_3    feature_6  \\\n",
       "count  1309.000000  1309.000000  1309.000000  1309.000000  1309.000000   \n",
       "mean      0.381971    33.295479     0.385027     0.498854    30.567133   \n",
       "std       0.486055    51.738879     0.865560     1.041658    12.955690   \n",
       "min       0.000000     0.000000     0.000000     0.000000     0.166700   \n",
       "25%       0.000000     7.895800     0.000000     0.000000    22.000000   \n",
       "50%       0.000000    14.454200     0.000000     0.000000    32.000000   \n",
       "75%       1.000000    31.275000     0.000000     1.000000    35.000000   \n",
       "max       1.000000   512.329200     9.000000     8.000000    80.000000   \n",
       "\n",
       "         feature_7    feature_9  \n",
       "count  1309.000000  1309.000000  \n",
       "mean      2.294882   101.794120  \n",
       "std       0.837836    50.890853  \n",
       "min       1.000000   -93.974333  \n",
       "25%       2.000000    68.550768  \n",
       "50%       3.000000   102.039185  \n",
       "75%       3.000000   135.175053  \n",
       "max       3.000000   264.692290  "
      ]
     },
     "execution_count": 9,
     "metadata": {},
     "output_type": "execute_result"
    }
   ],
   "source": [
    "# lets compute the summary statistics for our data\n",
    "data.describe()"
   ]
  },
  {
   "cell_type": "markdown",
   "metadata": {},
   "source": [
    "from this calculations above we can draw a conclusion that our data contains no null values in the preceeding variables\n",
    "and therefore it is ready for Analysis.we also summarised our data to better understand and find information about the data\n",
    "\n"
   ]
  },
  {
   "cell_type": "markdown",
   "metadata": {},
   "source": [
    "# Step 2 - Data Exploration and Analysis"
   ]
  },
  {
   "cell_type": "code",
   "execution_count": 10,
   "metadata": {},
   "outputs": [
    {
     "data": {
      "text/plain": [
       "target_var      int64\n",
       "feature_1     float64\n",
       "feature_2       int64\n",
       "feature_3       int64\n",
       "feature_4      object\n",
       "feature_5      object\n",
       "feature_6     float64\n",
       "feature_7       int64\n",
       "feature_8      object\n",
       "feature_9     float64\n",
       "dtype: object"
      ]
     },
     "execution_count": 10,
     "metadata": {},
     "output_type": "execute_result"
    }
   ],
   "source": [
    "# checking the data types of the columns\n",
    "\n",
    "data.dtypes"
   ]
  },
  {
   "cell_type": "code",
   "execution_count": 11,
   "metadata": {},
   "outputs": [
    {
     "data": {
      "text/plain": [
       "Index(['target_var', 'feature_1', 'feature_2', 'feature_3', 'feature_4',\n",
       "       'feature_5', 'feature_6', 'feature_7', 'feature_8', 'feature_9'],\n",
       "      dtype='object')"
      ]
     },
     "execution_count": 11,
     "metadata": {},
     "output_type": "execute_result"
    }
   ],
   "source": [
    "data.columns"
   ]
  },
  {
   "cell_type": "code",
   "execution_count": 12,
   "metadata": {},
   "outputs": [],
   "source": [
    "#data = data.rename(columns = {'feature_4':'feature_4','feature_5':'Color'})"
   ]
  },
  {
   "cell_type": "code",
   "execution_count": 13,
   "metadata": {},
   "outputs": [
    {
     "data": {
      "text/plain": [
       "array(['bigollo-16', 'cantor-33', 'euler-23', 'descrates-18', 'allen-47',\n",
       "       'cantor-112', 33.29547928134572, 'cantor-73', 'bigollo-46',\n",
       "       'allen-34', 'bigollo-69', 'descrates-26', 'cantor-17',\n",
       "       'descrates-46', 'cantor-159', 'cantor-108', 'bigollo-60',\n",
       "       'cantor-110', 'cantor-63', 'turing', 'allen-42', 'cantor-18',\n",
       "       'cantor-114', 'descrates-33', 'euler-44', 'allen-32', 'bigollo-21',\n",
       "       'bigollo-15', 'euler-51', 'bigollo-49', 'euler-35', 'bigollo-62',\n",
       "       'bigollo-107', 'cantor-57', 'euler-42', 'euler-19', 'bigollo-72',\n",
       "       'bigollo-88', 'allen-20', 'cantor-100', 'allen-25', 'euler-69',\n",
       "       'euler-60', 'euler-63', 'euler-56', 'bigollo-33', 'bigollo-37',\n",
       "       'cantor-96', 'euler-28', 'bigollo-82', 'bigollo-31', 'allen-45',\n",
       "       'cantor-97', 'allen-27', 'allen-31', 'allen-29', 'cantor-65',\n",
       "       'cantor-56', 'descrates-31', 'allen-40', 'cantor-106', 'euler-36',\n",
       "       'cantor-122', 'cantor-34', 'euler-47', 'descrates-45',\n",
       "       'descrates-51', 'bigollo-50', 'bigollo-52', 'bigollo-113',\n",
       "       'cantor-134', 'euler-74', 'cantor-141', 'bigollo-97', 'cantor-103',\n",
       "       'allen-16', 'cantor-62', 'bigollo-53', 'cantor-102', 'cantor-136',\n",
       "       'descrates-21', 'bigollo-93', 'euler-61', 'descrates-44',\n",
       "       'cantor-94', 'bigollo-105', 'descrates-60', 'descrates-56',\n",
       "       'bigollo-80', 'bigollo-22', 'euler-57', 'cantor-50', 'bigollo-29',\n",
       "       'descrates-22', 'cantor-104', 'bigollo-39', 'cantor-60',\n",
       "       'bigollo-63', 'euler-71', 'cantor-143', 'bigollo-48',\n",
       "       'descrates-32', 'descrates-30', 'cantor-135', 'descrates-28',\n",
       "       'bigollo-112', 'descrates-39', 'descrates-17', 'descrates-20',\n",
       "       'bigollo-91', 'cantor-117', 'bigollo-90', 'cantor-58',\n",
       "       'descrates-41', 'cantor-101', 'euler-49', 'cantor-89', 'cantor-41',\n",
       "       'cantor-129', 'descrates-47', 'descrates-59', 'descrates-58',\n",
       "       'cantor-116', 'bigollo-47', 'bigollo-41', 'descrates-54',\n",
       "       'bigollo-35', 'cantor-13', 'cantor-76', 'bigollo-84', 'cantor-115',\n",
       "       'cantor-121', 'cantor-61', 'bigollo-14', 'allen-35', 'allen-43',\n",
       "       'allen-22', 'allen-21', 'bigollo-68', 'cantor-39', 'euler-55',\n",
       "       'allen-37', 'allen-17', 'allen-18', 'cantor-42', 'allen-30',\n",
       "       'bigollo-56', 'euler-45', 'bigollo-89', 'bigollo-61', 'cantor-98',\n",
       "       'cantor-127', 'cantor-66', 'descrates-61', 'euler-79', 'euler-78',\n",
       "       'cantor-137', 'cantor-79', 'cantor-81', 'cantor-64', 'bigollo-30',\n",
       "       'descrates-57', 'descrates-48', 'descrates-37', 'cantor-43',\n",
       "       'cantor-91', 'cantor-93', 'cantor-139', 'euler-50', 'descrates',\n",
       "       'fermat-15', 'descrates-67', 'fermat-44', 'euler-112', 'euler-88',\n",
       "       'fermat-13', 'descrates-49', 'fermat', 'euler-132', 'euler-21',\n",
       "       'germain-17', 'fermat-49'], dtype=object)"
      ]
     },
     "execution_count": 13,
     "metadata": {},
     "output_type": "execute_result"
    }
   ],
   "source": [
    "# feature_4 has so many classes it simply shows that it is not gonna be a good predictor when we build a model\n",
    "\n",
    "data['feature_4'].unique()"
   ]
  },
  {
   "cell_type": "code",
   "execution_count": 14,
   "metadata": {},
   "outputs": [],
   "source": [
    "# Lets explore the correlation between some variables\n",
    "\n",
    "from scipy.stats import pearsonr\n",
    "\n",
    "import matplotlib.pyplot as plt"
   ]
  },
  {
   "cell_type": "code",
   "execution_count": 15,
   "metadata": {},
   "outputs": [
    {
     "data": {
      "text/plain": [
       "(0.3735871906264926, 1.278717771629585e-44)"
      ]
     },
     "execution_count": 15,
     "metadata": {},
     "output_type": "execute_result"
    }
   ],
   "source": [
    "pearsonr(data.feature_2,data.feature_3)"
   ]
  },
  {
   "cell_type": "code",
   "execution_count": 16,
   "metadata": {},
   "outputs": [
    {
     "data": {
      "image/png": "[encoded data removed]",
      "text/plain": [
       "<Figure size 432x288 with 1 Axes>"
      ]
     },
     "metadata": {
      "needs_background": "light"
     },
     "output_type": "display_data"
    }
   ],
   "source": [
    "# plotting the scatter plot which shows the correlation between feature_2 and feature_3\n",
    "\n",
    "fig, ax = plt.subplots(1, 1)\n",
    "\n",
    "ax.scatter(data.feature_2,data.feature_3)\n",
    "\n",
    "ax.set_xlabel('feature_2')\n",
    "\n",
    "ax.set_ylabel('feature_3')\n",
    "\n",
    "plt.show()"
   ]
  },
  {
   "cell_type": "code",
   "execution_count": 17,
   "metadata": {},
   "outputs": [],
   "source": [
    "# feature_2 and feature_3 are highly correlated with just one outlier point shown from the plot above "
   ]
  },
  {
   "cell_type": "code",
   "execution_count": 18,
   "metadata": {},
   "outputs": [
    {
     "data": {
      "text/html": [
       "<div>\n",
       "<style scoped>\n",
       "    .dataframe tbody tr th:only-of-type {\n",
       "        vertical-align: middle;\n",
       "    }\n",
       "\n",
       "    .dataframe tbody tr th {\n",
       "        vertical-align: top;\n",
       "    }\n",
       "\n",
       "    .dataframe thead th {\n",
       "        text-align: right;\n",
       "    }\n",
       "</style>\n",
       "<table border=\"1\" class=\"dataframe\">\n",
       "  <thead>\n",
       "    <tr style=\"text-align: right;\">\n",
       "      <th></th>\n",
       "      <th>target_var</th>\n",
       "      <th>feature_1</th>\n",
       "      <th>feature_2</th>\n",
       "      <th>feature_3</th>\n",
       "      <th>feature_6</th>\n",
       "      <th>feature_7</th>\n",
       "      <th>feature_9</th>\n",
       "    </tr>\n",
       "  </thead>\n",
       "  <tbody>\n",
       "    <tr>\n",
       "      <th>target_var</th>\n",
       "      <td>1.000000</td>\n",
       "      <td>0.244208</td>\n",
       "      <td>0.082660</td>\n",
       "      <td>-0.027825</td>\n",
       "      <td>-0.061300</td>\n",
       "      <td>-0.312469</td>\n",
       "      <td>0.024100</td>\n",
       "    </tr>\n",
       "    <tr>\n",
       "      <th>feature_1</th>\n",
       "      <td>0.244208</td>\n",
       "      <td>1.000000</td>\n",
       "      <td>0.221522</td>\n",
       "      <td>0.160224</td>\n",
       "      <td>0.156763</td>\n",
       "      <td>-0.558477</td>\n",
       "      <td>0.019009</td>\n",
       "    </tr>\n",
       "    <tr>\n",
       "      <th>feature_2</th>\n",
       "      <td>0.082660</td>\n",
       "      <td>0.221522</td>\n",
       "      <td>1.000000</td>\n",
       "      <td>0.373587</td>\n",
       "      <td>-0.138813</td>\n",
       "      <td>0.018322</td>\n",
       "      <td>0.041958</td>\n",
       "    </tr>\n",
       "    <tr>\n",
       "      <th>feature_3</th>\n",
       "      <td>-0.027825</td>\n",
       "      <td>0.160224</td>\n",
       "      <td>0.373587</td>\n",
       "      <td>1.000000</td>\n",
       "      <td>-0.190492</td>\n",
       "      <td>0.060832</td>\n",
       "      <td>0.033437</td>\n",
       "    </tr>\n",
       "    <tr>\n",
       "      <th>feature_6</th>\n",
       "      <td>-0.061300</td>\n",
       "      <td>0.156763</td>\n",
       "      <td>-0.138813</td>\n",
       "      <td>-0.190492</td>\n",
       "      <td>1.000000</td>\n",
       "      <td>-0.342329</td>\n",
       "      <td>-0.033105</td>\n",
       "    </tr>\n",
       "    <tr>\n",
       "      <th>feature_7</th>\n",
       "      <td>-0.312469</td>\n",
       "      <td>-0.558477</td>\n",
       "      <td>0.018322</td>\n",
       "      <td>0.060832</td>\n",
       "      <td>-0.342329</td>\n",
       "      <td>1.000000</td>\n",
       "      <td>0.023329</td>\n",
       "    </tr>\n",
       "    <tr>\n",
       "      <th>feature_9</th>\n",
       "      <td>0.024100</td>\n",
       "      <td>0.019009</td>\n",
       "      <td>0.041958</td>\n",
       "      <td>0.033437</td>\n",
       "      <td>-0.033105</td>\n",
       "      <td>0.023329</td>\n",
       "      <td>1.000000</td>\n",
       "    </tr>\n",
       "  </tbody>\n",
       "</table>\n",
       "</div>"
      ],
      "text/plain": [
       "            target_var  feature_1  feature_2  feature_3  feature_6  feature_7  \\\n",
       "target_var    1.000000   0.244208   0.082660  -0.027825  -0.061300  -0.312469   \n",
       "feature_1     0.244208   1.000000   0.221522   0.160224   0.156763  -0.558477   \n",
       "feature_2     0.082660   0.221522   1.000000   0.373587  -0.138813   0.018322   \n",
       "feature_3    -0.027825   0.160224   0.373587   1.000000  -0.190492   0.060832   \n",
       "feature_6    -0.061300   0.156763  -0.138813  -0.190492   1.000000  -0.342329   \n",
       "feature_7    -0.312469  -0.558477   0.018322   0.060832  -0.342329   1.000000   \n",
       "feature_9     0.024100   0.019009   0.041958   0.033437  -0.033105   0.023329   \n",
       "\n",
       "            feature_9  \n",
       "target_var   0.024100  \n",
       "feature_1    0.019009  \n",
       "feature_2    0.041958  \n",
       "feature_3    0.033437  \n",
       "feature_6   -0.033105  \n",
       "feature_7    0.023329  \n",
       "feature_9    1.000000  "
      ]
     },
     "execution_count": 18,
     "metadata": {},
     "output_type": "execute_result"
    }
   ],
   "source": [
    "# Correlation between all features\n",
    "data.corr()"
   ]
  },
  {
   "cell_type": "code",
   "execution_count": 19,
   "metadata": {},
   "outputs": [],
   "source": [
    "# We use patsy,statsmodels and scikit packages to build our model\n",
    "\n",
    "import statsmodels.formula.api as sm\n",
    "from patsy import dmatrices"
   ]
  },
  {
   "cell_type": "markdown",
   "metadata": {},
   "source": [
    "# Step 3 - Training and Test Data\n"
   ]
  },
  {
   "cell_type": "code",
   "execution_count": 20,
   "metadata": {},
   "outputs": [],
   "source": [
    "# feature_4 is excluded from the formula to avoid overfitting\n",
    "# Logistic Regression\n",
    "model_formula = 'target_var ~ feature_1 + feature_2 + C(feature_5) + feature_6 + C(feature_8) + feature_9' "
   ]
  },
  {
   "cell_type": "code",
   "execution_count": 21,
   "metadata": {},
   "outputs": [],
   "source": [
    "#we take the first 1047 records to train and the remaining 262 for testing(80/20 split)\n",
    "\n",
    "data_train = data.iloc[0:1047, :]\n",
    "data_test = data.iloc[1047 :, :]"
   ]
  },
  {
   "cell_type": "code",
   "execution_count": 24,
   "metadata": {},
   "outputs": [],
   "source": [
    "y_train,x_train = dmatrices(model_formula, data=data_train, return_type = 'dataframe')\n",
    "\n",
    "y_test,x_test = dmatrices(model_formula, data=data_test, return_type = 'dataframe')"
   ]
  },
  {
   "cell_type": "code",
   "execution_count": null,
   "metadata": {},
   "outputs": [],
   "source": []
  },
  {
   "cell_type": "markdown",
   "metadata": {},
   "source": [
    "## Step 4 - Model Build using Logistic Regression"
   ]
  },
  {
   "cell_type": "code",
   "execution_count": 25,
   "metadata": {},
   "outputs": [
    {
     "name": "stdout",
     "output_type": "stream",
     "text": [
      "Optimization terminated successfully.\n",
      "         Current function value: 0.492852\n",
      "         Iterations 130\n"
     ]
    },
    {
     "data": {
      "text/html": [
       "<table class=\"simpletable\">\n",
       "<caption>Logit Regression Results</caption>\n",
       "<tr>\n",
       "  <th>Dep. Variable:</th>    <td>target_var</td>    <th>  No. Observations:  </th>  <td>  1047</td>  \n",
       "</tr>\n",
       "<tr>\n",
       "  <th>Model:</th>               <td>Logit</td>      <th>  Df Residuals:      </th>  <td>  1038</td>  \n",
       "</tr>\n",
       "<tr>\n",
       "  <th>Method:</th>               <td>MLE</td>       <th>  Df Model:          </th>  <td>     8</td>  \n",
       "</tr>\n",
       "<tr>\n",
       "  <th>Date:</th>          <td>Tue, 24 Sep 2019</td> <th>  Pseudo R-squ.:     </th>  <td>0.2772</td>  \n",
       "</tr>\n",
       "<tr>\n",
       "  <th>Time:</th>              <td>17:58:17</td>     <th>  Log-Likelihood:    </th> <td> -516.02</td> \n",
       "</tr>\n",
       "<tr>\n",
       "  <th>converged:</th>           <td>True</td>       <th>  LL-Null:           </th> <td> -713.91</td> \n",
       "</tr>\n",
       "<tr>\n",
       "  <th> </th>                      <td> </td>        <th>  LLR p-value:       </th> <td>1.492e-80</td>\n",
       "</tr>\n",
       "</table>\n",
       "<table class=\"simpletable\">\n",
       "<tr>\n",
       "            <td></td>               <th>coef</th>     <th>std err</th>      <th>z</th>      <th>P>|z|</th>  <th>[0.025</th>    <th>0.975]</th>  \n",
       "</tr>\n",
       "<tr>\n",
       "  <th>Intercept</th>             <td>  414.0766</td> <td> 9.28e+06</td> <td> 4.46e-05</td> <td> 1.000</td> <td>-1.82e+07</td> <td> 1.82e+07</td>\n",
       "</tr>\n",
       "<tr>\n",
       "  <th>C(feature_5)[T.pink]</th>  <td>   -2.5851</td> <td>    0.169</td> <td>  -15.256</td> <td> 0.000</td> <td>   -2.917</td> <td>   -2.253</td>\n",
       "</tr>\n",
       "<tr>\n",
       "  <th>C(feature_8)[T.gamma]</th> <td> -411.9370</td> <td> 9.28e+06</td> <td>-4.44e-05</td> <td> 1.000</td> <td>-1.82e+07</td> <td> 1.82e+07</td>\n",
       "</tr>\n",
       "<tr>\n",
       "  <th>C(feature_8)[T.qoph]</th>  <td> -413.0995</td> <td> 9.28e+06</td> <td>-4.45e-05</td> <td> 1.000</td> <td>-1.82e+07</td> <td> 1.82e+07</td>\n",
       "</tr>\n",
       "<tr>\n",
       "  <th>C(feature_8)[T.sigma]</th> <td> -412.5782</td> <td> 9.28e+06</td> <td>-4.44e-05</td> <td> 1.000</td> <td>-1.82e+07</td> <td> 1.82e+07</td>\n",
       "</tr>\n",
       "<tr>\n",
       "  <th>feature_1</th>             <td>    0.0083</td> <td>    0.002</td> <td>    4.300</td> <td> 0.000</td> <td>    0.005</td> <td>    0.012</td>\n",
       "</tr>\n",
       "<tr>\n",
       "  <th>feature_2</th>             <td>   -0.1324</td> <td>    0.104</td> <td>   -1.267</td> <td> 0.205</td> <td>   -0.337</td> <td>    0.072</td>\n",
       "</tr>\n",
       "<tr>\n",
       "  <th>feature_6</th>             <td>   -0.0193</td> <td>    0.006</td> <td>   -3.084</td> <td> 0.002</td> <td>   -0.032</td> <td>   -0.007</td>\n",
       "</tr>\n",
       "<tr>\n",
       "  <th>feature_9</th>             <td>    0.0003</td> <td>    0.002</td> <td>    0.176</td> <td> 0.860</td> <td>   -0.003</td> <td>    0.003</td>\n",
       "</tr>\n",
       "</table>"
      ],
      "text/plain": [
       "<class 'statsmodels.iolib.summary.Summary'>\n",
       "\"\"\"\n",
       "                           Logit Regression Results                           \n",
       "==============================================================================\n",
       "Dep. Variable:             target_var   No. Observations:                 1047\n",
       "Model:                          Logit   Df Residuals:                     1038\n",
       "Method:                           MLE   Df Model:                            8\n",
       "Date:                Tue, 24 Sep 2019   Pseudo R-squ.:                  0.2772\n",
       "Time:                        17:58:17   Log-Likelihood:                -516.02\n",
       "converged:                       True   LL-Null:                       -713.91\n",
       "                                        LLR p-value:                 1.492e-80\n",
       "=========================================================================================\n",
       "                            coef    std err          z      P>|z|      [0.025      0.975]\n",
       "-----------------------------------------------------------------------------------------\n",
       "Intercept               414.0766   9.28e+06   4.46e-05      1.000   -1.82e+07    1.82e+07\n",
       "C(feature_5)[T.pink]     -2.5851      0.169    -15.256      0.000      -2.917      -2.253\n",
       "C(feature_8)[T.gamma]  -411.9370   9.28e+06  -4.44e-05      1.000   -1.82e+07    1.82e+07\n",
       "C(feature_8)[T.qoph]   -413.0995   9.28e+06  -4.45e-05      1.000   -1.82e+07    1.82e+07\n",
       "C(feature_8)[T.sigma]  -412.5782   9.28e+06  -4.44e-05      1.000   -1.82e+07    1.82e+07\n",
       "feature_1                 0.0083      0.002      4.300      0.000       0.005       0.012\n",
       "feature_2                -0.1324      0.104     -1.267      0.205      -0.337       0.072\n",
       "feature_6                -0.0193      0.006     -3.084      0.002      -0.032      -0.007\n",
       "feature_9                 0.0003      0.002      0.176      0.860      -0.003       0.003\n",
       "=========================================================================================\n",
       "\"\"\""
      ]
     },
     "execution_count": 25,
     "metadata": {},
     "output_type": "execute_result"
    }
   ],
   "source": [
    "model = sm.Logit(y_train,x_train)\n",
    "\n",
    "result = model.fit(maxiter = 200)\n",
    "\n",
    "result.summary()"
   ]
  },
  {
   "cell_type": "markdown",
   "metadata": {},
   "source": [
    "We can see That Maximum Likelihood Estimation has been used to predict the coefficients. The pseudo r square is similar to the r square of linear regression, which is used to measure the goodness of the model. A pseudo r square value between 0.2 and 0.4 is considered good and we have got a value of 0.28 which is good.\n",
    "From the preceding table, we can see that the feature_2 and feature_9 are significant predictors as their p-values are higher than 0.05."
   ]
  },
  {
   "cell_type": "markdown",
   "metadata": {},
   "source": [
    "## Step - 5 Model Rebuild"
   ]
  },
  {
   "cell_type": "markdown",
   "metadata": {},
   "source": [
    "We'll rebuild the model by using predictors, such as feature_5, feature_1, feature_6 and feature_3 and feature_7 to make the model even better:"
   ]
  },
  {
   "cell_type": "code",
   "execution_count": 26,
   "metadata": {},
   "outputs": [],
   "source": [
    "formula = 'target_var ~ C(feature_5) + feature_1 + feature_6 + feature_3 + feature_7'"
   ]
  },
  {
   "cell_type": "code",
   "execution_count": 27,
   "metadata": {},
   "outputs": [],
   "source": [
    "df_train = data.iloc[0:1047, :]\n",
    "df_test = data.iloc[1047:, :]"
   ]
  },
  {
   "cell_type": "code",
   "execution_count": 28,
   "metadata": {},
   "outputs": [],
   "source": [
    "y_train,x_train = dmatrices(formula, data=df_train, return_type = 'dataframe')\n",
    "\n",
    "y_test,x_test = dmatrices(formula, data=df_test, return_type = 'dataframe')"
   ]
  },
  {
   "cell_type": "code",
   "execution_count": 29,
   "metadata": {},
   "outputs": [
    {
     "name": "stdout",
     "output_type": "stream",
     "text": [
      "Optimization terminated successfully.\n",
      "         Current function value: 0.466642\n",
      "         Iterations 6\n"
     ]
    },
    {
     "data": {
      "text/html": [
       "<table class=\"simpletable\">\n",
       "<caption>Logit Regression Results</caption>\n",
       "<tr>\n",
       "  <th>Dep. Variable:</th>    <td>target_var</td>    <th>  No. Observations:  </th>  <td>  1047</td>  \n",
       "</tr>\n",
       "<tr>\n",
       "  <th>Model:</th>               <td>Logit</td>      <th>  Df Residuals:      </th>  <td>  1041</td>  \n",
       "</tr>\n",
       "<tr>\n",
       "  <th>Method:</th>               <td>MLE</td>       <th>  Df Model:          </th>  <td>     5</td>  \n",
       "</tr>\n",
       "<tr>\n",
       "  <th>Date:</th>          <td>Tue, 24 Sep 2019</td> <th>  Pseudo R-squ.:     </th>  <td>0.3156</td>  \n",
       "</tr>\n",
       "<tr>\n",
       "  <th>Time:</th>              <td>17:58:25</td>     <th>  Log-Likelihood:    </th> <td> -488.57</td> \n",
       "</tr>\n",
       "<tr>\n",
       "  <th>converged:</th>           <td>True</td>       <th>  LL-Null:           </th> <td> -713.91</td> \n",
       "</tr>\n",
       "<tr>\n",
       "  <th> </th>                      <td> </td>        <th>  LLR p-value:       </th> <td>3.522e-95</td>\n",
       "</tr>\n",
       "</table>\n",
       "<table class=\"simpletable\">\n",
       "<tr>\n",
       "            <td></td>              <th>coef</th>     <th>std err</th>      <th>z</th>      <th>P>|z|</th>  <th>[0.025</th>    <th>0.975]</th>  \n",
       "</tr>\n",
       "<tr>\n",
       "  <th>Intercept</th>            <td>    4.5406</td> <td>    0.464</td> <td>    9.786</td> <td> 0.000</td> <td>    3.631</td> <td>    5.450</td>\n",
       "</tr>\n",
       "<tr>\n",
       "  <th>C(feature_5)[T.pink]</th> <td>   -2.7201</td> <td>    0.175</td> <td>  -15.528</td> <td> 0.000</td> <td>   -3.063</td> <td>   -2.377</td>\n",
       "</tr>\n",
       "<tr>\n",
       "  <th>feature_1</th>            <td>    0.0026</td> <td>    0.002</td> <td>    1.413</td> <td> 0.158</td> <td>   -0.001</td> <td>    0.006</td>\n",
       "</tr>\n",
       "<tr>\n",
       "  <th>feature_6</th>            <td>   -0.0378</td> <td>    0.007</td> <td>   -5.559</td> <td> 0.000</td> <td>   -0.051</td> <td>   -0.024</td>\n",
       "</tr>\n",
       "<tr>\n",
       "  <th>feature_3</th>            <td>   -0.2632</td> <td>    0.106</td> <td>   -2.486</td> <td> 0.013</td> <td>   -0.471</td> <td>   -0.056</td>\n",
       "</tr>\n",
       "<tr>\n",
       "  <th>feature_7</th>            <td>   -0.9478</td> <td>    0.123</td> <td>   -7.697</td> <td> 0.000</td> <td>   -1.189</td> <td>   -0.706</td>\n",
       "</tr>\n",
       "</table>"
      ],
      "text/plain": [
       "<class 'statsmodels.iolib.summary.Summary'>\n",
       "\"\"\"\n",
       "                           Logit Regression Results                           \n",
       "==============================================================================\n",
       "Dep. Variable:             target_var   No. Observations:                 1047\n",
       "Model:                          Logit   Df Residuals:                     1041\n",
       "Method:                           MLE   Df Model:                            5\n",
       "Date:                Tue, 24 Sep 2019   Pseudo R-squ.:                  0.3156\n",
       "Time:                        17:58:25   Log-Likelihood:                -488.57\n",
       "converged:                       True   LL-Null:                       -713.91\n",
       "                                        LLR p-value:                 3.522e-95\n",
       "========================================================================================\n",
       "                           coef    std err          z      P>|z|      [0.025      0.975]\n",
       "----------------------------------------------------------------------------------------\n",
       "Intercept                4.5406      0.464      9.786      0.000       3.631       5.450\n",
       "C(feature_5)[T.pink]    -2.7201      0.175    -15.528      0.000      -3.063      -2.377\n",
       "feature_1                0.0026      0.002      1.413      0.158      -0.001       0.006\n",
       "feature_6               -0.0378      0.007     -5.559      0.000      -0.051      -0.024\n",
       "feature_3               -0.2632      0.106     -2.486      0.013      -0.471      -0.056\n",
       "feature_7               -0.9478      0.123     -7.697      0.000      -1.189      -0.706\n",
       "========================================================================================\n",
       "\"\"\""
      ]
     },
     "execution_count": 29,
     "metadata": {},
     "output_type": "execute_result"
    }
   ],
   "source": [
    "model = sm.Logit(y_train,x_train)\n",
    "res = model.fit()\n",
    "res.summary()"
   ]
  },
  {
   "cell_type": "markdown",
   "metadata": {},
   "source": [
    "## Step 6 - Model Evaluation"
   ]
  },
  {
   "cell_type": "code",
   "execution_count": 30,
   "metadata": {},
   "outputs": [],
   "source": [
    "from statsmodels.nonparametric.kde import KDEUnivariate\n",
    "from sklearn.metrics import classification_report\n",
    "from sklearn.metrics import roc_curve\n",
    "from sklearn.metrics import auc"
   ]
  },
  {
   "cell_type": "code",
   "execution_count": 31,
   "metadata": {},
   "outputs": [
    {
     "name": "stderr",
     "output_type": "stream",
     "text": [
      "C:\\Users\\LEGEND\\Anaconda3\\lib\\site-packages\\scipy\\stats\\stats.py:1713: FutureWarning: Using a non-tuple sequence for multidimensional indexing is deprecated; use `arr[tuple(seq)]` instead of `arr[seq]`. In the future this will be interpreted as an array index, `arr[np.array(seq)]`, which will result either in an error or a different result.\n",
      "  return np.add.reduce(sorted[indexer] * weights, axis=axis) / sumval\n"
     ]
    },
    {
     "data": {
      "text/plain": [
       "Text(0.5, 1.0, 'Distribution of Predictions')"
      ]
     },
     "execution_count": 31,
     "metadata": {},
     "output_type": "execute_result"
    },
    {
     "data": {
      "image/png": "[encoded data removed]",
      "text/plain": [
       "<Figure size 432x288 with 1 Axes>"
      ]
     },
     "metadata": {
      "needs_background": "light"
     },
     "output_type": "display_data"
    }
   ],
   "source": [
    "# lets plot the distribution of the predictions on the training data\n",
    "\n",
    "kde_res = KDEUnivariate(res.predict())\n",
    "kde_res.fit()\n",
    "plt.plot(kde_res.support,kde_res.density)\n",
    "plt.fill_between(kde_res.support,kde_res.density, alpha = 0.2)\n",
    "plt.title(\"Distribution of Predictions\")"
   ]
  },
  {
   "cell_type": "markdown",
   "metadata": {},
   "source": [
    "From The preceding plot we can see that the density is high near probabilities 0 and 1,which is a good thing and shows our model is able to predict some patterns from the data.And the density is even higher near 0 which means that lot of zeroes were predicted"
   ]
  },
  {
   "cell_type": "markdown",
   "metadata": {},
   "source": [
    "## Step - 7 Evaluating a model based on test data"
   ]
  },
  {
   "cell_type": "markdown",
   "metadata": {},
   "source": [
    "Classification report"
   ]
  },
  {
   "cell_type": "code",
   "execution_count": 32,
   "metadata": {},
   "outputs": [
    {
     "name": "stdout",
     "output_type": "stream",
     "text": [
      "Predicted  False  True \n",
      "Original               \n",
      "0.0          194     13\n",
      "1.0           41     14\n",
      "\n",
      " \n",
      "\n",
      "              precision    recall  f1-score   support\n",
      "\n",
      "         0.0       0.83      0.94      0.88       207\n",
      "         1.0       0.52      0.25      0.34        55\n",
      "\n",
      "    accuracy                           0.79       262\n",
      "   macro avg       0.67      0.60      0.61       262\n",
      "weighted avg       0.76      0.79      0.77       262\n",
      "\n"
     ]
    }
   ],
   "source": [
    "# Lets draw a classification report using Sklearn metrics\n",
    "\n",
    "y_pred = res.predict(x_test)\n",
    "y_pred_flag = y_pred > 0.7\n",
    "\n",
    "print(pd.crosstab(y_test.target_var,y_pred_flag,rownames = ['Original'],colnames = ['Predicted']))\n",
    "print('\\n \\n')\n",
    "print(classification_report(y_test,y_pred_flag))"
   ]
  },
  {
   "cell_type": "markdown",
   "metadata": {},
   "source": [
    "\n",
    "\"\"\" Let's break down the concept of what precision and recall mean from the preceding classification report.\n",
    "PRECISION: Precision tells us that among all the predictions of class 0 or class 1, how many of them have been correctly predicted. So, in the preceding case, 83% of the prediction of outcome 0 is correct and 52% of the prediction of outcome 1 is correct.\n",
    "RECALL: Recall tells us that out of the actual/original instances, how many of them have been predicted correctly. So, in the preceding case, 0 outcome has been predicted correctly with an accuracy of 94%, but of all the 1 outcomes predicted, only 25% of them have been predicted correctly.\n",
    "\"\"\""
   ]
  },
  {
   "cell_type": "markdown",
   "metadata": {},
   "source": [
    "\n",
    "\"\"\" Let's break down the concept of what precision and recall mean from the preceding classification report.\n",
    "PRECISION: Precision tells us that among all the predictions of class 0 or class 1, how many of them have been correctly predicted. So, in the preceding case, 83% of the prediction of outcome 0 is correct and 52% of the prediction of outcome 1 is correct.\n",
    "RECALL: Recall tells us that out of the actual/original instances, how many of them have been predicted correctly. So, in the preceding case, 0 outcome has been predicted correctly with an accuracy of 94%, but of all the 1 outcomes predicted, only 25% of them have been predicted correctly.\n",
    "\"\"\""
   ]
  },
  {
   "cell_type": "code",
   "execution_count": 33,
   "metadata": {},
   "outputs": [
    {
     "name": "stdout",
     "output_type": "stream",
     "text": [
      "Accuracy : 0.776856\n"
     ]
    }
   ],
   "source": [
    "# we use roc_curve from sklearn metrics to measure our accuracy\n",
    "\n",
    "fpr,tpr,thresholds = roc_curve(y_test, y_pred)\n",
    "\n",
    "roc_auc = auc(fpr,tpr)\n",
    "\n",
    "print(\"Accuracy : %f\"% roc_auc)"
   ]
  },
  {
   "cell_type": "code",
   "execution_count": 34,
   "metadata": {},
   "outputs": [
    {
     "data": {
      "image/png": "[encoded data removed]",
      "text/plain": [
       "<Figure size 432x288 with 1 Axes>"
      ]
     },
     "metadata": {
      "needs_background": "light"
     },
     "output_type": "display_data"
    }
   ],
   "source": [
    "plt.clf()\n",
    "plt.plot(fpr, tpr, label='ROC curve (area = %0.2f)' % roc_auc)\n",
    "plt.plot([0, 1], [0, 1], 'k--')\n",
    "plt.xlim([0.0, 1.0])\n",
    "plt.ylim([0.0, 1.0])\n",
    "plt.xlabel('False Positive Rate')\n",
    "plt.ylabel('True Positive Rate')\n",
    "plt.title('Receiver operating characteristic')\n",
    "plt.legend(loc=\"lower right\")\n",
    "plt.show()"
   ]
  },
  {
   "cell_type": "markdown",
   "metadata": {},
   "source": [
    "\n",
    "Accuracy is measured by the area under the ROC curve. An area of 1 represents a perfect test; an area of 0.5 represents that the model is as good as a random guess."
   ]
  },
  {
   "cell_type": "markdown",
   "metadata": {},
   "source": [
    "# #Conclusion specified for non-technical readers"
   ]
  },
  {
   "cell_type": "markdown",
   "metadata": {},
   "source": [
    "\n",
    "we used Logistic Regression to build this model\n",
    "Logistic regression is a type of regression analysis that helps in estimating the likelihood of an event to occur based on some given parameters. It is used as a classification technique with a binary outcome(two categories: 0 & 1).\n",
    "we choose Logistic regression because is easier and yields perferct results for classification problem\n",
    "And we did the following with it:\n",
    "• Build a logistic regression model with statsmodels\n",
    "• Evaluated and test the model"
   ]
  },
  {
   "cell_type": "code",
   "execution_count": 35,
   "metadata": {},
   "outputs": [],
   "source": [
    "acc_summary = {'Range':['0.90-1','0.80-0.90','0.70-0.80','0.60-0.70','0.50-0.60'],'Category':['This is Excellent(A)','This is Good(B)','Fairly Good(C)','This is Poor(D)','This is Fail(E)']}"
   ]
  },
  {
   "cell_type": "code",
   "execution_count": 36,
   "metadata": {},
   "outputs": [],
   "source": [
    "Accuracy_Summary = pd.DataFrame(acc_summary)"
   ]
  },
  {
   "cell_type": "markdown",
   "metadata": {},
   "source": [
    "Accuracy Summary Table\n"
   ]
  },
  {
   "cell_type": "code",
   "execution_count": 37,
   "metadata": {},
   "outputs": [
    {
     "data": {
      "text/html": [
       "<div>\n",
       "<style scoped>\n",
       "    .dataframe tbody tr th:only-of-type {\n",
       "        vertical-align: middle;\n",
       "    }\n",
       "\n",
       "    .dataframe tbody tr th {\n",
       "        vertical-align: top;\n",
       "    }\n",
       "\n",
       "    .dataframe thead th {\n",
       "        text-align: right;\n",
       "    }\n",
       "</style>\n",
       "<table border=\"1\" class=\"dataframe\">\n",
       "  <thead>\n",
       "    <tr style=\"text-align: right;\">\n",
       "      <th></th>\n",
       "      <th>Range</th>\n",
       "      <th>Category</th>\n",
       "    </tr>\n",
       "  </thead>\n",
       "  <tbody>\n",
       "    <tr>\n",
       "      <th>0</th>\n",
       "      <td>0.90-1</td>\n",
       "      <td>This is Excellent(A)</td>\n",
       "    </tr>\n",
       "    <tr>\n",
       "      <th>1</th>\n",
       "      <td>0.80-0.90</td>\n",
       "      <td>This is Good(B)</td>\n",
       "    </tr>\n",
       "    <tr>\n",
       "      <th>2</th>\n",
       "      <td>0.70-0.80</td>\n",
       "      <td>Fairly Good(C)</td>\n",
       "    </tr>\n",
       "    <tr>\n",
       "      <th>3</th>\n",
       "      <td>0.60-0.70</td>\n",
       "      <td>This is Poor(D)</td>\n",
       "    </tr>\n",
       "    <tr>\n",
       "      <th>4</th>\n",
       "      <td>0.50-0.60</td>\n",
       "      <td>This is Fail(E)</td>\n",
       "    </tr>\n",
       "  </tbody>\n",
       "</table>\n",
       "</div>"
      ],
      "text/plain": [
       "       Range              Category\n",
       "0     0.90-1  This is Excellent(A)\n",
       "1  0.80-0.90       This is Good(B)\n",
       "2  0.70-0.80        Fairly Good(C)\n",
       "3  0.60-0.70       This is Poor(D)\n",
       "4  0.50-0.60       This is Fail(E)"
      ]
     },
     "execution_count": 37,
     "metadata": {},
     "output_type": "execute_result"
    }
   ],
   "source": [
    "Accuracy_Summary\n",
    "\n",
    "# This table illustrate the level of a model from good to bad "
   ]
  },
  {
   "cell_type": "code",
   "execution_count": 38,
   "metadata": {},
   "outputs": [
    {
     "data": {
      "image/png": "[encoded data removed]",
      "text/plain": [
       "<Figure size 720x576 with 1 Axes>"
      ]
     },
     "metadata": {
      "needs_background": "light"
     },
     "output_type": "display_data"
    }
   ],
   "source": [
    "# This plot shows our accuracy \n",
    "plt.figure(figsize=(10,8))\n",
    "plt.clf()\n",
    "plt.plot(fpr, tpr, label='ROC curve (area = %0.2f)' % roc_auc)\n",
    "plt.plot([0, 1], [0, 1], 'k--')\n",
    "plt.xlim([0.0, 1.0])\n",
    "plt.ylim([0.0, 1.0])\n",
    "plt.xlabel('False Positive Rate')\n",
    "plt.ylabel('True Positive Rate')\n",
    "plt.title('Receiver operating characteristic')\n",
    "plt.legend(loc=\"lower right\")\n",
    "plt.show()"
   ]
  },
  {
   "cell_type": "code",
   "execution_count": 39,
   "metadata": {},
   "outputs": [
    {
     "name": "stdout",
     "output_type": "stream",
     "text": [
      "Accuracy : 0.776856\n"
     ]
    }
   ],
   "source": [
    "# Printing the accuracy\n",
    "\n",
    "print(\"Accuracy : %f\"% roc_auc)"
   ]
  },
  {
   "cell_type": "code",
   "execution_count": 40,
   "metadata": {},
   "outputs": [],
   "source": [
    "# And from the preceding plot it shows that we got accurracy of 78 % which is fairly good"
   ]
  },
  {
   "cell_type": "markdown",
   "metadata": {},
   "source": [
    "# Precesion and recall Explanation"
   ]
  },
  {
   "cell_type": "code",
   "execution_count": 41,
   "metadata": {},
   "outputs": [
    {
     "name": "stdout",
     "output_type": "stream",
     "text": [
      "              precision    recall  f1-score   support\n",
      "\n",
      "         0.0       0.83      0.94      0.88       207\n",
      "         1.0       0.52      0.25      0.34        55\n",
      "\n",
      "    accuracy                           0.79       262\n",
      "   macro avg       0.67      0.60      0.61       262\n",
      "weighted avg       0.76      0.79      0.77       262\n",
      "\n"
     ]
    }
   ],
   "source": [
    "# This below is a classification report\n",
    "\n",
    "print(classification_report(y_test,y_pred_flag))"
   ]
  },
  {
   "cell_type": "markdown",
   "metadata": {},
   "source": [
    "\n",
    "PRECISION: Precision tells us that among all the predictions of class 0 or class 1, how many of them have been correctly predicted. So, in the preceding case, 83% of the prediction of outcome 0 is correct and 52% of the prediction of outcome 1 is correct.\n",
    "RECALL: Recall tells us that out of the actual/original instances, how many of them have been predicted correctly. So, in the preceding case, 0 outcome has been predicted correctly with an accuracy of 94%, but of all the 1 outcomes predicted, only 25% of them have been predicted correctly."
   ]
  },
  {
   "cell_type": "markdown",
   "metadata": {},
   "source": [
    "crosstab or confusion matrix explanation"
   ]
  },
  {
   "cell_type": "code",
   "execution_count": 42,
   "metadata": {},
   "outputs": [
    {
     "name": "stdout",
     "output_type": "stream",
     "text": [
      "Predicted  False  True \n",
      "Original               \n",
      "0.0          194     13\n",
      "1.0           41     14\n"
     ]
    }
   ],
   "source": [
    "print(pd.crosstab(y_test.target_var,y_pred_flag,rownames = ['Original'],colnames = ['Predicted']))"
   ]
  },
  {
   "cell_type": "markdown",
   "metadata": {},
   "source": [
    "\n",
    "This follows True False Rate(TPR) = FT/(TP + FN) also called sensitivity\n",
    "False Positive (FP): This is a positive prediction, which is actually wrong. So, in the preceding crosstab, 13 is False Positive\n",
    "True Positive (TP): This is a positive prediction, which is actually right. So, in the preceding crosstab, 14 is True Positive\n",
    "True Negative (TN): This is a negative prediction, which is actually right. So, in the above crosstab, 194 is True Negative\n",
    "False Negative (FN): This is a negative prediction, which is actually wrong. So, in the preceding cross tab, 41 is False Negative"
   ]
  },
  {
   "cell_type": "markdown",
   "metadata": {},
   "source": [
    "# Conclusion Summary"
   ]
  },
  {
   "cell_type": "code",
   "execution_count": 45,
   "metadata": {},
   "outputs": [
    {
     "data": {
      "text/plain": [
       "Text(0.5, 1.0, 'Distribution of Predictions')"
      ]
     },
     "execution_count": 45,
     "metadata": {},
     "output_type": "execute_result"
    },
    {
     "data": {
      "image/png": "[encoded data removed]",
      "text/plain": [
       "<Figure size 864x576 with 1 Axes>"
      ]
     },
     "metadata": {
      "needs_background": "light"
     },
     "output_type": "display_data"
    }
   ],
   "source": [
    "plt.figure(figsize = (12,8))\n",
    "plt.plot(kde_res.support,kde_res.density)\n",
    "plt.fill_between(kde_res.support,kde_res.density, alpha = 0.2)\n",
    "plt.title(\"Distribution of Predictions\")"
   ]
  },
  {
   "cell_type": "markdown",
   "metadata": {},
   "source": [
    "This shows that the density is very high near 0 so this means that it costs the company R20 000 per case because a prediction\n",
    "of 0 is made and therefore cost reductions must be done to save the company some money"
   ]
  },
  {
   "cell_type": "code",
   "execution_count": null,
   "metadata": {},
   "outputs": [],
   "source": []
  },
  {
   "cell_type": "code",
   "execution_count": null,
   "metadata": {},
   "outputs": [],
   "source": []
  }
 ],
 "metadata": {
  "kernelspec": {
   "display_name": "Python 3",
   "language": "python",
   "name": "python3"
  },
  "language_info": {
   "codemirror_mode": {
    "name": "ipython",
    "version": 3
   },
   "file_extension": ".py",
   "mimetype": "text/x-python",
   "name": "python",
   "nbconvert_exporter": "python",
   "pygments_lexer": "ipython3",
   "version": "3.7.1"
  }
 },
 "nbformat": 4,
 "nbformat_minor": 2
}
